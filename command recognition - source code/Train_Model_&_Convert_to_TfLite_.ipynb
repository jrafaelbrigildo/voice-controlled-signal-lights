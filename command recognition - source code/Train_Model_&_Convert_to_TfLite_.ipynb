{
  "cells": [
    {
      "cell_type": "code",
      "execution_count": null,
      "metadata": {
        "colab": {
          "base_uri": "https://localhost:8080/"
        },
        "id": "ip91MHC6ZG3w",
        "outputId": "5e0496dc-f1d7-4dce-e17a-2660e306c0d1"
      },
      "outputs": [
        {
          "output_type": "stream",
          "name": "stdout",
          "text": [
            "Mounted at /content/drive\n"
          ]
        }
      ],
      "source": [
        "from google.colab import drive\n",
        "drive.mount('/content/drive')"
      ]
    },
    {
      "cell_type": "markdown",
      "metadata": {
        "id": "7ZuigSoBOgNw"
      },
      "source": [
        "# Training\n",
        "\n",
        "This treats the spectrograms of the words like images"
      ]
    },
    {
      "cell_type": "code",
      "execution_count": null,
      "metadata": {
        "id": "aa6niXGfOgNx"
      },
      "outputs": [],
      "source": [
        "# Import all the things we will need\n",
        "import datetime\n",
        "import tensorflow as tf\n",
        "import numpy as np\n",
        "from tensorflow import keras\n",
        "from tensorflow.keras import regularizers\n",
        "from tensorflow.keras.models import Sequential\n",
        "from tensorflow.keras.layers import Dense, Conv2D, Flatten, Dropout, MaxPooling2D, BatchNormalization\n",
        "from tensorflow.data import Dataset\n",
        "import matplotlib.pyplot as plt"
      ]
    },
    {
      "cell_type": "code",
      "execution_count": null,
      "metadata": {
        "id": "QKSFOZvEOgN3"
      },
      "outputs": [],
      "source": [
        "# Load the TensorBoard notebook extension - if you want it inline - this can be a bit flaky...\n",
        "# %load_ext tensorboard\n",
        "# %reload_ext tensorboard"
      ]
    },
    {
      "cell_type": "code",
      "execution_count": null,
      "metadata": {
        "id": "XCeAtRk_Y73H"
      },
      "outputs": [],
      "source": [
        "# clear out any old logs\n",
        "!rm -rf ./logs/"
      ]
    },
    {
      "cell_type": "code",
      "execution_count": null,
      "metadata": {
        "id": "XW7YzGxSOgOT"
      },
      "outputs": [],
      "source": [
        "# launch tensorboard using this command\n",
        "# %tensorboard --logdir logs"
      ]
    },
    {
      "cell_type": "code",
      "execution_count": null,
      "metadata": {
        "colab": {
          "base_uri": "https://localhost:8080/"
        },
        "id": "ZqaXaErqY73I",
        "outputId": "b69c14a9-c0b2-44da-cbda-d6c8a8e5adf9"
      },
      "outputs": [
        {
          "output_type": "stream",
          "name": "stdout",
          "text": [
            "Num GPUs Available:  0\n"
          ]
        }
      ],
      "source": [
        "print(\"Num GPUs Available: \", len(tf.config.experimental.list_physical_devices('GPU')))"
      ]
    },
    {
      "cell_type": "code",
      "execution_count": null,
      "metadata": {
        "id": "-EENm2XtOgN6"
      },
      "outputs": [],
      "source": [
        "# List of the words in categorical order\n",
        "command_words = [\n",
        "    'slow',\n",
        "    'left',\n",
        "    'right',\n",
        "    'stop',\n",
        "    'off',\n",
        "    '_invalid',\n",
        "]"
      ]
    },
    {
      "cell_type": "code",
      "execution_count": null,
      "metadata": {
        "id": "ERCnsdwMOgN9"
      },
      "outputs": [],
      "source": [
        "# Load up the sprectrograms and labels\n",
        "training_spectrogram = np.load('/content/drive/MyDrive/training_spectrogram.npz')\n",
        "validation_spectrogram = np.load('/content/drive/MyDrive/validation_spectrogram.npz')\n",
        "test_spectrogram = np.load('/content/drive/MyDrive/test_spectrogram.npz')"
      ]
    },
    {
      "cell_type": "code",
      "execution_count": null,
      "metadata": {
        "id": "4L_A47mDOgN_"
      },
      "outputs": [],
      "source": [
        "# extract the data from the files\n",
        "X_train = training_spectrogram['X']\n",
        "Y_train_cats = training_spectrogram['Y']\n",
        "X_validate = validation_spectrogram['X']\n",
        "Y_validate_cats = validation_spectrogram['Y']\n",
        "X_test = test_spectrogram['X']\n",
        "Y_test_cats = test_spectrogram['Y']\n",
        "\n",
        "# get the width and height of the spectrogram \"image\"\n",
        "IMG_WIDTH=X_train[0].shape[0]\n",
        "IMG_HEIGHT=X_train[0].shape[1]"
      ]
    },
    {
      "cell_type": "code",
      "execution_count": null,
      "metadata": {
        "colab": {
          "base_uri": "https://localhost:8080/",
          "height": 485
        },
        "id": "IquLGwB6pSwR",
        "outputId": "4492c3c4-8d8c-4b56-b955-d405c9f5e2e8"
      },
      "outputs": [
        {
          "output_type": "execute_result",
          "data": {
            "text/plain": [
              "(array([16640., 16640., 16560., 17600., 19040., 50237.]),\n",
              " array([0., 1., 2., 3., 4., 5., 6.]),\n",
              " <BarContainer object of 6 artists>)"
            ]
          },
          "metadata": {},
          "execution_count": 6
        },
        {
          "output_type": "display_data",
          "data": {
            "text/plain": [
              "<Figure size 640x480 with 1 Axes>"
            ],
            "image/png": "[encoded data removed]"
          },
          "metadata": {}
        }
      ],
      "source": [
        "# plot a distribution of the words\n",
        "plt.hist(Y_train_cats, bins=range(0,len(command_words)+1), align='left')"
      ]
    },
    {
      "cell_type": "code",
      "execution_count": null,
      "metadata": {
        "colab": {
          "base_uri": "https://localhost:8080/"
        },
        "id": "ZXHaeU4uqLnM",
        "outputId": "be91f37a-7b62-4893-a4e4-f7c03c4b8fd9"
      },
      "outputs": [
        {
          "output_type": "stream",
          "name": "stdout",
          "text": [
            "[0 1 2 3 4 5] [16640 16640 16560 17600 19040 50237]\n"
          ]
        },
        {
          "output_type": "execute_result",
          "data": {
            "text/plain": [
              "{'slow': 16640,\n",
              " 'left': 16640,\n",
              " 'right': 16560,\n",
              " 'stop': 17600,\n",
              " 'off': 19040,\n",
              " '_invalid': 50237}"
            ]
          },
          "metadata": {},
          "execution_count": 7
        }
      ],
      "source": [
        "unique, counts = np.unique(Y_train_cats, return_counts=True)\n",
        "print(unique, counts)\n",
        "dict(zip([command_words[i] for i in unique], counts))"
      ]
    },
    {
      "cell_type": "code",
      "execution_count": null,
      "metadata": {
        "id": "946JWm6Fe2Wd"
      },
      "outputs": [],
      "source": [
        "Y_train = tf.one_hot(Y_train_cats, len(command_words))\n",
        "Y_validate = tf.one_hot(Y_validate_cats, len(command_words))\n",
        "Y_test = tf.one_hot(Y_test_cats, len(command_words))"
      ]
    },
    {
      "cell_type": "code",
      "execution_count": null,
      "metadata": {
        "id": "-60v8-m3OgOF"
      },
      "outputs": [],
      "source": [
        "# create the datasets for training\n",
        "batch_size = 32\n",
        "\n",
        "train_dataset = Dataset.from_tensor_slices(\n",
        "    (X_train, Y_train)\n",
        ").repeat(\n",
        "    count=-1\n",
        ").shuffle(\n",
        "    len(X_train)\n",
        ").batch(\n",
        "    batch_size\n",
        ")\n",
        "\n",
        "validation_dataset = Dataset.from_tensor_slices((X_validate, Y_validate)).batch(X_validate.shape[0]//10)\n",
        "\n",
        "test_dataset = Dataset.from_tensor_slices((X_test, Y_test)).batch(len(X_test))"
      ]
    },
    {
      "cell_type": "code",
      "execution_count": null,
      "metadata": {
        "colab": {
          "base_uri": "https://localhost:8080/"
        },
        "id": "Wbnijb64OgOM",
        "outputId": "88ed9981-7f3a-43ea-9912-f59f8f3be7e3"
      },
      "outputs": [
        {
          "output_type": "stream",
          "name": "stdout",
          "text": [
            "Model: \"sequential\"\n",
            "_________________________________________________________________\n",
            " Layer (type)                Output Shape              Param #   \n",
            "=================================================================\n",
            " conv_layer1 (Conv2D)        (None, 99, 43, 4)         40        \n",
            "                                                                 \n",
            " max_pooling1 (MaxPooling2D  (None, 49, 21, 4)         0         \n",
            " )                                                               \n",
            "                                                                 \n",
            " conv_layer2 (Conv2D)        (None, 49, 21, 4)         148       \n",
            "                                                                 \n",
            " max_pooling3 (MaxPooling2D  (None, 24, 10, 4)         0         \n",
            " )                                                               \n",
            "                                                                 \n",
            " flatten (Flatten)           (None, 960)               0         \n",
            "                                                                 \n",
            " dropout (Dropout)           (None, 960)               0         \n",
            "                                                                 \n",
            " hidden_layer1 (Dense)       (None, 80)                76880     \n",
            "                                                                 \n",
            " dropout_1 (Dropout)         (None, 80)                0         \n",
            "                                                                 \n",
            " output (Dense)              (None, 6)                 486       \n",
            "                                                                 \n",
            "=================================================================\n",
            "Total params: 77554 (302.95 KB)\n",
            "Trainable params: 77554 (302.95 KB)\n",
            "Non-trainable params: 0 (0.00 Byte)\n",
            "_________________________________________________________________\n"
          ]
        }
      ],
      "source": [
        "model = Sequential([\n",
        "    Conv2D(4, 3,\n",
        "           padding='same',\n",
        "           activation='relu',\n",
        "           kernel_regularizer=regularizers.l2(0.001),\n",
        "           name='conv_layer1',\n",
        "           input_shape=(IMG_WIDTH, IMG_HEIGHT, 1)),\n",
        "    MaxPooling2D(name='max_pooling1', pool_size=(2,2)),\n",
        "    Conv2D(4, 3,\n",
        "           padding='same',\n",
        "           activation='relu',\n",
        "           kernel_regularizer=regularizers.l2(0.001),\n",
        "           name='conv_layer2'),\n",
        "    MaxPooling2D(name='max_pooling3', pool_size=(2,2)),\n",
        "    Flatten(),\n",
        "    Dropout(0.1),\n",
        "    Dense(\n",
        "        80,\n",
        "        activation='relu',\n",
        "        kernel_regularizer=regularizers.l2(0.001),\n",
        "        name='hidden_layer1'\n",
        "    ),\n",
        "    Dropout(0.1),\n",
        "    Dense(\n",
        "        len(command_words),\n",
        "        activation='softmax',\n",
        "        kernel_regularizer=regularizers.l2(0.001),\n",
        "        name='output'\n",
        "    )\n",
        "])\n",
        "model.summary()"
      ]
    },
    {
      "cell_type": "code",
      "execution_count": null,
      "metadata": {
        "id": "gnEC2AOdOgOO"
      },
      "outputs": [],
      "source": [
        "epochs=10\n",
        "\n",
        "model.compile(optimizer='adam',\n",
        "              loss=tf.keras.losses.CategoricalCrossentropy(),\n",
        "              metrics=['accuracy'])"
      ]
    },
    {
      "cell_type": "markdown",
      "metadata": {
        "id": "pUzYHZJ2OgOR"
      },
      "source": [
        "# Logging to tensorboard\n",
        "We log the training stats along with the confusion matrix of the test data - should we be using the validation data"
      ]
    },
    {
      "cell_type": "code",
      "execution_count": null,
      "metadata": {
        "id": "cwBFfW6TOgOR"
      },
      "outputs": [],
      "source": [
        "log_dir = \"logs/fit/\" + datetime.datetime.now().strftime(\"%Y%m%d-%H%M%S\")\n",
        "tensorboard_callback = tf.keras.callbacks.TensorBoard(log_dir=log_dir, histogram_freq=1)"
      ]
    },
    {
      "cell_type": "markdown",
      "metadata": {
        "id": "me2W-gteOgOT"
      },
      "source": [
        "# Train model"
      ]
    },
    {
      "cell_type": "code",
      "execution_count": null,
      "metadata": {
        "colab": {
          "base_uri": "https://localhost:8080/"
        },
        "id": "9s--XYYIOgOW",
        "outputId": "c1751856-cdd9-48bb-9e16-0a229e6ee200"
      },
      "outputs": [
        {
          "output_type": "stream",
          "name": "stdout",
          "text": [
            "Epoch 1/10\n",
            "4272/4272 [==============================] - 240s 55ms/step - loss: 0.5574 - accuracy: 0.8415 - val_loss: 0.4414 - val_accuracy: 0.8927\n",
            "Epoch 2/10\n",
            "4272/4272 [==============================] - 235s 55ms/step - loss: 0.4041 - accuracy: 0.9043 - val_loss: 0.4174 - val_accuracy: 0.9004\n",
            "Epoch 3/10\n",
            "4272/4272 [==============================] - 241s 56ms/step - loss: 0.3762 - accuracy: 0.9149 - val_loss: 0.4000 - val_accuracy: 0.9114\n",
            "Epoch 4/10\n",
            "4272/4272 [==============================] - 239s 56ms/step - loss: 0.3668 - accuracy: 0.9191 - val_loss: 0.4016 - val_accuracy: 0.9102\n",
            "Epoch 5/10\n",
            "4272/4272 [==============================] - 243s 57ms/step - loss: 0.3588 - accuracy: 0.9229 - val_loss: 0.3908 - val_accuracy: 0.9130\n",
            "Epoch 6/10\n",
            "4272/4272 [==============================] - 245s 57ms/step - loss: 0.3556 - accuracy: 0.9236 - val_loss: 0.3860 - val_accuracy: 0.9177\n",
            "Epoch 7/10\n",
            "4272/4272 [==============================] - 240s 56ms/step - loss: 0.3522 - accuracy: 0.9262 - val_loss: 0.3835 - val_accuracy: 0.9127\n",
            "Epoch 8/10\n",
            "4272/4272 [==============================] - 233s 55ms/step - loss: 0.3497 - accuracy: 0.9270 - val_loss: 0.4209 - val_accuracy: 0.9067\n",
            "Epoch 9/10\n",
            "4272/4272 [==============================] - 243s 57ms/step - loss: 0.3440 - accuracy: 0.9292 - val_loss: 0.3979 - val_accuracy: 0.9132\n",
            "Epoch 10/10\n",
            "4272/4272 [==============================] - 232s 54ms/step - loss: 0.3455 - accuracy: 0.9291 - val_loss: 0.3943 - val_accuracy: 0.9127\n"
          ]
        }
      ],
      "source": [
        "model_checkpoint_callback = tf.keras.callbacks.ModelCheckpoint(\n",
        "    filepath=\"checkpoint.model\",\n",
        "    monitor='val_accuracy',\n",
        "    mode='max',\n",
        "    save_best_only=True)\n",
        "\n",
        "history = model.fit(\n",
        "    train_dataset,\n",
        "    steps_per_epoch=len(X_train) // batch_size,\n",
        "    epochs=epochs,\n",
        "    validation_data=validation_dataset,\n",
        "    validation_steps=10,\n",
        "    callbacks=[tensorboard_callback, model_checkpoint_callback]\n",
        ")"
      ]
    },
    {
      "cell_type": "code",
      "execution_count": null,
      "metadata": {
        "id": "v1u5dvHuYpsg"
      },
      "outputs": [],
      "source": [
        "model.save(\"/content/drive/MyDrive/trained.model\")"
      ]
    },
    {
      "cell_type": "markdown",
      "metadata": {
        "id": "s8Vok4uqFv6_"
      },
      "source": [
        "# Testing the Model"
      ]
    },
    {
      "cell_type": "code",
      "execution_count": null,
      "metadata": {
        "id": "21m-pPzgFmhD"
      },
      "outputs": [],
      "source": [
        "model2 =  keras.models.load_model(\"/content/drive/MyDrive/trained.model\")"
      ]
    },
    {
      "cell_type": "code",
      "execution_count": null,
      "metadata": {
        "id": "74brwGyVGZ7B",
        "colab": {
          "base_uri": "https://localhost:8080/"
        },
        "outputId": "14651d90-ada5-4377-a186-c4d07bf7defd"
      },
      "outputs": [
        {
          "output_type": "stream",
          "name": "stdout",
          "text": [
            "145/145 [==============================] - 13s 85ms/step - loss: 0.3418 - accuracy: 0.9320\n"
          ]
        }
      ],
      "source": [
        "results = model2.evaluate(X_test, tf.cast(Y_test, tf.float32), batch_size=128)"
      ]
    },
    {
      "cell_type": "code",
      "execution_count": null,
      "metadata": {
        "id": "uRkkvWOKM6hv",
        "colab": {
          "base_uri": "https://localhost:8080/"
        },
        "outputId": "bad32abd-93f8-44ea-91c8-8aeb8c3d2389"
      },
      "outputs": [
        {
          "output_type": "stream",
          "name": "stdout",
          "text": [
            "145/145 [==============================] - 14s 93ms/step\n"
          ]
        }
      ],
      "source": [
        "predictions = model2.predict(X_test, 128)"
      ]
    },
    {
      "cell_type": "code",
      "execution_count": null,
      "metadata": {
        "id": "AqREODRkY73M"
      },
      "outputs": [],
      "source": [
        "import itertools\n",
        "\n",
        "\n",
        "def plot_confusion_matrix(cm, class_names):\n",
        "    \"\"\"\n",
        "  Returns a matplotlib figure containing the plotted confusion matrix.\n",
        "\n",
        "  Args:\n",
        "    cm (array, shape = [n, n]): a confusion matrix of integer classes\n",
        "    class_names (array, shape = [n]): String names of the integer classes\n",
        "  \"\"\"\n",
        "    cm = cm.numpy()\n",
        "    # Normalize the confusion matrix.\n",
        "    cm = np.around(cm.astype(\"float\") / cm.sum(axis=1)[:, np.newaxis], decimals=2)\n",
        "\n",
        "    figure = plt.figure(figsize=(8, 8))\n",
        "    plt.imshow(cm, interpolation=\"nearest\", cmap=plt.cm.Blues)\n",
        "    plt.title(\"Confusion matrix\")\n",
        "    plt.colorbar()\n",
        "    tick_marks = np.arange(len(class_names))\n",
        "    plt.xticks(tick_marks, class_names, rotation=45)\n",
        "    plt.yticks(tick_marks, class_names)\n",
        "\n",
        "    # Use white text if squares are dark; otherwise black.\n",
        "    threshold = cm.max() / 2.0\n",
        "    for i, j in itertools.product(range(cm.shape[0]), range(cm.shape[1])):\n",
        "        color = \"white\" if cm[i, j] > threshold else \"black\"\n",
        "        plt.text(j, i, cm[i, j], horizontalalignment=\"center\", color=color)\n",
        "\n",
        "    plt.tight_layout()\n",
        "    plt.ylabel(\"True label\")\n",
        "    plt.xlabel(\"Predicted label\")\n",
        "    plt.show()\n",
        "#     return figure"
      ]
    },
    {
      "cell_type": "code",
      "execution_count": null,
      "metadata": {
        "id": "1WoBaIWOY73N",
        "scrolled": false,
        "colab": {
          "base_uri": "https://localhost:8080/",
          "height": 807
        },
        "outputId": "48802c2f-5f7a-4545-e0ef-f1d2949e1954"
      },
      "outputs": [
        {
          "output_type": "display_data",
          "data": {
            "text/plain": [
              "<Figure size 800x800 with 2 Axes>"
            ],
            "image/png": "[encoded data removed]"
          },
          "metadata": {}
        }
      ],
      "source": [
        "cm = tf.math.confusion_matrix(\n",
        "    labels=tf.argmax(Y_test, 1), predictions=tf.argmax(predictions, 1)\n",
        ")\n",
        "\n",
        "plot_confusion_matrix(cm, command_words)"
      ]
    },
    {
      "cell_type": "code",
      "source": [
        "import shutil\n",
        "\n",
        "# Define paths\n",
        "source_folder = \"trained.model\"\n",
        "destination_folder = \"/content/drive/MyDrive/train.model\"\n",
        "\n",
        "# Copy folder to Google Drive\n",
        "shutil.copytree(source_folder, destination_folder)\n"
      ],
      "metadata": {
        "colab": {
          "base_uri": "https://localhost:8080/",
          "height": 35
        },
        "id": "wnx6lXyVsHIb",
        "outputId": "96fd989b-cbf1-4112-865a-92740932c2fd"
      },
      "execution_count": null,
      "outputs": [
        {
          "output_type": "execute_result",
          "data": {
            "text/plain": [
              "'/content/drive/MyDrive/train.model'"
            ],
            "application/vnd.google.colaboratory.intrinsic+json": {
              "type": "string"
            }
          },
          "metadata": {},
          "execution_count": 24
        }
      ]
    },
    {
      "cell_type": "markdown",
      "metadata": {
        "id": "XReRRcBKY73N"
      },
      "source": [
        "# Fully train the model"
      ]
    },
    {
      "cell_type": "code",
      "execution_count": null,
      "metadata": {
        "id": "x-8KWCPCd8I0"
      },
      "outputs": [],
      "source": [
        "import numpy as np"
      ]
    },
    {
      "cell_type": "code",
      "execution_count": null,
      "metadata": {
        "id": "fZItwJx7yWpY"
      },
      "outputs": [],
      "source": [
        "batch_size = 30\n",
        "complete_train_X = np.concatenate((X_train, X_validate, X_test))\n",
        "complete_train_Y = np.concatenate((Y_train, Y_validate, Y_test))\n",
        "\n",
        "complete_train_dataset = Dataset.from_tensor_slices((complete_train_X, complete_train_Y)).repeat(count=-1).shuffle(len(complete_train_X)).batch(batch_size)"
      ]
    },
    {
      "cell_type": "code",
      "execution_count": null,
      "metadata": {
        "id": "rnUSsWvTY73N",
        "colab": {
          "base_uri": "https://localhost:8080/"
        },
        "outputId": "dac20446-7950-4260-fefe-933cd1d5e85f"
      },
      "outputs": [
        {
          "output_type": "stream",
          "name": "stdout",
          "text": [
            "Epoch 1/5\n",
            "1848/5361 [=========>....................] - ETA: 3:31 - loss: 0.2854 - accuracy: 0.9399"
          ]
        }
      ],
      "source": [
        "history = model2.fit(\n",
        "    complete_train_dataset,\n",
        "    steps_per_epoch=len(complete_train_X) // batch_size,\n",
        "    epochs=5\n",
        ")"
      ]
    },
    {
      "cell_type": "code",
      "execution_count": null,
      "metadata": {
        "id": "kE-UWZnuY73N"
      },
      "outputs": [],
      "source": [
        "model2.save(\"fully_trained.model\")"
      ]
    },
    {
      "cell_type": "code",
      "execution_count": null,
      "metadata": {
        "id": "KArvWtH_Y73O"
      },
      "outputs": [],
      "source": [
        "results = model2.evaluate(complete_train_X, tf.cast(complete_train_Y, tf.float32), batch_size=128)"
      ]
    },
    {
      "cell_type": "code",
      "execution_count": null,
      "metadata": {
        "id": "kzBz2vhCY73O"
      },
      "outputs": [],
      "source": [
        "predictions = model2.predict(complete_train_X, 128)"
      ]
    },
    {
      "cell_type": "code",
      "execution_count": null,
      "metadata": {
        "id": "kf9lUA6EY73O"
      },
      "outputs": [],
      "source": [
        "cm = tf.math.confusion_matrix(\n",
        "    labels=tf.argmax(complete_train_Y, 1), predictions=tf.argmax(predictions, 1)\n",
        ")\n",
        "\n",
        "plot_confusion_matrix(cm, command_words)"
      ]
    },
    {
      "cell_type": "code",
      "execution_count": null,
      "metadata": {
        "id": "LkBcvVC6Y73O"
      },
      "outputs": [],
      "source": [
        "training_spectrogram = np.load('/content/drive/MyDrive/training_spectrogram.npz')\n",
        "validation_spectrogram = np.load('/content/drive/MyDrive/validation_spectrogram.npz')\n",
        "test_spectrogram = np.load('/content/drive/MyDrive/test_spectrogram.npz')\n",
        "\n",
        "X_train = training_spectrogram['X']\n",
        "X_validate = validation_spectrogram['X']\n",
        "X_test = test_spectrogram['X']\n",
        "\n",
        "complete_train_X = np.concatenate((X_train, X_validate, X_test))\n",
        "# complete_train_X = X_validate"
      ]
    },
    {
      "cell_type": "code",
      "source": [
        "converter2 = tf.lite.TFLiteConverter.from_saved_model(\"/content/drive/MyDrive/trained.model\")\n",
        "converter2.optimizations = [tf.lite.Optimize.DEFAULT]\n",
        "def representative_dataset_gen():\n",
        "    for i in range(0, len(complete_train_X), 100):\n",
        "        # Get sample input data as a numpy array in a method of your choosing.\n",
        "        yield [complete_train_X[i:i+100]]\n",
        "converter2.representative_dataset = representative_dataset_gen\n",
        "# converter.optimizations = [tf.lite.Optimize.OPTIMIZE_FOR_SIZE]\n",
        "converter2.target_spec.supported_ops = [tf.lite.OpsSet.TFLITE_BUILTINS_INT8]\n",
        "tflite_quant_model = converter2.convert()\n",
        "open(\"converted_model.tflite\", \"wb\").write(tflite_quant_model)"
      ],
      "metadata": {
        "colab": {
          "base_uri": "https://localhost:8080/"
        },
        "id": "YGUv-PsYse9c",
        "outputId": "46ed6b13-cfa8-4bf2-a74c-b7fc1660b360"
      },
      "execution_count": null,
      "outputs": [
        {
          "output_type": "execute_result",
          "data": {
            "text/plain": [
              "82432"
            ]
          },
          "metadata": {},
          "execution_count": 20
        }
      ]
    },
    {
      "cell_type": "markdown",
      "source": [
        "## To convert to C++"
      ],
      "metadata": {
        "id": "Xil5QzH7kEj2"
      }
    },
    {
      "cell_type": "code",
      "source": [
        "!xxd -i converted_model.tflite > model.cc"
      ],
      "metadata": {
        "id": "3D70aReysm2M"
      },
      "execution_count": null,
      "outputs": []
    }
  ],
  "metadata": {
    "colab": {
      "provenance": [],
      "gpuType": "T4"
    },
    "kernelspec": {
      "display_name": "Python 3",
      "name": "python3"
    },
    "language_info": {
      "codemirror_mode": {
        "name": "ipython",
        "version": 3
      },
      "file_extension": ".py",
      "mimetype": "text/x-python",
      "name": "python",
      "nbconvert_exporter": "python",
      "pygments_lexer": "ipython3",
      "version": "3.8.5"
    },
    "accelerator": "GPU"
  },
  "nbformat": 4,
  "nbformat_minor": 0
}